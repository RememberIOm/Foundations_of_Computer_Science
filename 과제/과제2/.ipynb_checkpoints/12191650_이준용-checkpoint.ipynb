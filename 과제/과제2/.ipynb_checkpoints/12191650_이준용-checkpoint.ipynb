{
 "cells": [
  {
   "cell_type": "code",
   "execution_count": 118,
   "metadata": {},
   "outputs": [],
   "source": [
    "class Weather:\n",
    "    def __init__(self, fileName):\n",
    "        self.file = open(fileName, 'r')\n",
    "        self.lines = self.file.readlines()\n",
    "        self.file.close()\n",
    "        \n",
    "    def setSplit(self, data):\n",
    "        temp = data.split(',')\n",
    "        return temp\n",
    "    \n",
    "    def setDataList(self):\n",
    "        listData = self.lines[1:]\n",
    "        return listData\n",
    "        \n",
    "    def temperature(self):\n",
    "        listTemperature = []\n",
    "        for data in self.setDataList():\n",
    "            listTemperature.append(float(self.setSplit(data)[2]))\n",
    "        return listTemperature\n",
    "    \n",
    "    def windSpeed(self):\n",
    "        listWindSpeed = []\n",
    "        for data in self.setDataList():\n",
    "            listWindSpeed.append(float(self.setSplit(data)[3]))\n",
    "        return listWindSpeed\n",
    "    \n",
    "    def humidity(self):\n",
    "        listHumidity = []\n",
    "        for data in self.setDataList():\n",
    "            listHumidity.append(float(self.setSplit(data)[4]))\n",
    "        return listHumidity"
   ]
  },
  {
   "cell_type": "code",
   "execution_count": 119,
   "metadata": {},
   "outputs": [],
   "source": [
    "class CalWeather(Weather):\n",
    "    def avg(self, data):\n",
    "        if data == '기온':\n",
    "            return sum(self.temperature()) / len(self.temperature())\n",
    "        elif data == '풍속':\n",
    "            return sum(self.windSpeed()) / len(self.windSpeed())\n",
    "        elif data == '습도':\n",
    "            return sum(self.humidity()) / len(self.humidity())\n",
    "        else:\n",
    "            raise IndexError()\n",
    "            \n",
    "    def std(self, data):\n",
    "        if data == '기온':\n",
    "            return (sum([i ** 2 for i in self.temperature()]) / len(self.temperature()) - self.avg(data) ** 2) ** 0.5\n",
    "        elif data == '풍속':\n",
    "            return (sum([i ** 2 for i in self.windSpeed()]) / len(self.windSpeed()) - self.avg(data) ** 2) ** 0.5\n",
    "        elif data == '습도':\n",
    "            return (sum([i ** 2 for i in self.humidity()]) / len(self.humidity()) - self.avg(data) ** 2) ** 0.5\n",
    "        else:\n",
    "            raise IndexError()\n",
    "            \n",
    "    def maximum(self, data):\n",
    "        if data == '기온':\n",
    "            return max(self.temperature())\n",
    "        elif data == '풍속':\n",
    "            return max(self.windSpeed())\n",
    "        elif data == '습도':\n",
    "            return max(self.humidity())\n",
    "        else:\n",
    "            raise IndexError()\n",
    "            \n",
    "    def minimum(self, data):\n",
    "        if data == '기온':\n",
    "            return min(self.temperature())\n",
    "        elif data == '풍속':\n",
    "            return min(self.windSpeed())\n",
    "        elif data == '습도':\n",
    "            return min(self.humidity())\n",
    "        else:\n",
    "            raise IndexError()"
   ]
  },
  {
   "cell_type": "code",
   "execution_count": 120,
   "metadata": {},
   "outputs": [],
   "source": [
    "class InputError(Exception):\n",
    "    pass"
   ]
  },
  {
   "cell_type": "code",
   "execution_count": 121,
   "metadata": {},
   "outputs": [
    {
     "name": "stdout",
     "output_type": "stream",
     "text": [
      "2019년 05월 24일의 기온 평균: 22.299999999999997, 표준편차: 3.9421863646120876, 최고값: 28.0, 최저값: 17.3\n",
      "\n",
      "2019년 05월 24일의 풍속 평균: 2.1999999999999997, 표준편차: 0.8621678104251713, 최고값: 3.5, 최저값: 0.3\n",
      "\n",
      "2019년 05월 24일의 습도 평균: 57.625, 표준편차: 11.433913372069949, 최고값: 76.0, 최저값: 41.0\n",
      "\n",
      "2019년 05월 25일의 기온 평균: 21.612499999999997, 표준편차: 2.5554374217864946, 최고값: 24.7, 최저값: 17.7\n",
      "\n",
      "2019년 05월 25일의 풍속 평균: 2.5833333333333326, 표준편차: 0.5691123692988005, 최고값: 3.5, 최저값: 1.5\n",
      "\n",
      "2019년 05월 25일의 습도 평균: 62.166666666666664, 표준편차: 16.624947786049997, 최고값: 89.0, 최저값: 31.0\n",
      "\n",
      "2019년 05월 26일의 기온 평균: 23.100000000000005, 표준편차: 2.529657420811435, 최고값: 26.9, 최저값: 19.4\n",
      "\n",
      "2019년 05월 26일의 풍속 평균: 2.454166666666667, 표준편차: 1.0319799605074151, 최고값: 4.6, 최저값: 0.4\n",
      "\n",
      "2019년 05월 26일의 습도 평균: 49.583333333333336, 표준편차: 12.172087833326776, 최고값: 72.0, 최저값: 31.0\n",
      "\n"
     ]
    }
   ],
   "source": [
    "listDataName = ['기온', '풍속', '습도']\n",
    "for i in range(24, 27):\n",
    "    date = '2019_05_' + str(i) + '.csv'\n",
    "    for j in listDataName:\n",
    "        print('2019년 05월 {0}일의 {1} 평균: {2}, 표준편차: {3}, 최고값: {4}, 최저값: {5}\\n'.format(i, j, CalWeather(date).avg(j), CalWeather(date).std(j), CalWeather(date).maximum(j), CalWeather(date).minimum(j)))"
   ]
  },
  {
   "cell_type": "code",
   "execution_count": null,
   "metadata": {},
   "outputs": [],
   "source": []
  }
 ],
 "metadata": {
  "kernelspec": {
   "display_name": "Python 3",
   "language": "python",
   "name": "python3"
  },
  "language_info": {
   "codemirror_mode": {
    "name": "ipython",
    "version": 3
   },
   "file_extension": ".py",
   "mimetype": "text/x-python",
   "name": "python",
   "nbconvert_exporter": "python",
   "pygments_lexer": "ipython3",
   "version": "3.7.1"
  }
 },
 "nbformat": 4,
 "nbformat_minor": 2
}
