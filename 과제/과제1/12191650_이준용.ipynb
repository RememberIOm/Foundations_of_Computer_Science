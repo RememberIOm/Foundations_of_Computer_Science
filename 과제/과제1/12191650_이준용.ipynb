{
 "cells": [
  {
   "cell_type": "code",
   "execution_count": null,
   "metadata": {},
   "outputs": [],
   "source": [
    "def fn_set_oper(oper):\n",
    "    list_oper = ['+', '-', '*', '/', '**', '%', '//']\n",
    "    result = 0\n",
    "    \n",
    "    for i in list_oper:\n",
    "        if oper == i:\n",
    "            result = 1\n",
    "            \n",
    "    return result"
   ]
  },
  {
   "cell_type": "code",
   "execution_count": null,
   "metadata": {},
   "outputs": [],
   "source": [
    "def fn_do_oper(num1, oper, num2):\n",
    "    list_oper = ['+', '-', '*', '/', '**', '%', '//']\n",
    "    type_oper = -1\n",
    "    result = 0\n",
    "    \n",
    "    for i in range(len(list_oper)):\n",
    "        if oper == list_oper[i]:\n",
    "            type_oper = i\n",
    "            \n",
    "    if type_oper == 0:\n",
    "        result = num1 + num2\n",
    "    elif type_oper == 1:\n",
    "        result = num1 - num2\n",
    "    elif type_oper == 2:\n",
    "        result = num1 * num2\n",
    "    elif type_oper == 3:\n",
    "        result = num1 / num2\n",
    "    elif type_oper == 4:\n",
    "        result = num1 ** num2\n",
    "    elif type_oper == 5:\n",
    "        result = num1 % num2\n",
    "    else:\n",
    "        result = num1 // num2\n",
    "        \n",
    "    return result"
   ]
  },
  {
   "cell_type": "code",
   "execution_count": null,
   "metadata": {},
   "outputs": [],
   "source": [
    "while True:\n",
    "    num1 = int(input(\"First Number: \"))\n",
    "    \n",
    "    if num1 < 0:\n",
    "        print(\"Exit\")\n",
    "        break\n",
    "    \n",
    "    oper = input(\"Operator: \")\n",
    "    num2 = int(input(\"Second Number: \"))\n",
    "    \n",
    "    if fn_set_oper(oper) == 0:\n",
    "        print(\"wrong operator\")\n",
    "        continue\n",
    "    \n",
    "    print(\"%d %s %d = %s\" % (num1, oper, num2, fn_do_oper(num1, oper, num2)))"
   ]
  }
 ],
 "metadata": {
  "kernelspec": {
   "display_name": "Python 3",
   "language": "python",
   "name": "python3"
  },
  "language_info": {
   "codemirror_mode": {
    "name": "ipython",
    "version": 3
   },
   "file_extension": ".py",
   "mimetype": "text/x-python",
   "name": "python",
   "nbconvert_exporter": "python",
   "pygments_lexer": "ipython3",
   "version": "3.7.1"
  }
 },
 "nbformat": 4,
 "nbformat_minor": 2
}
