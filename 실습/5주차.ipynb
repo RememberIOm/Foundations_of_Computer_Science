{
 "cells": [
  {
   "cell_type": "code",
   "execution_count": 7,
   "metadata": {},
   "outputs": [],
   "source": [
    "class_1_math = [78, 80, 84, 80, 92, 92, 94]\n",
    "class_2_math = [76, 80, 82, 82, 92, 92, 93]\n",
    "class_3_math = [72, 83, 74, 74, 90, 90, 94]\n",
    "class_1_kor = [72, 83, 74, 74, 90, 90, 94]\n",
    "class_2_kor = [78, 80, 84, 80, 92, 92, 94]\n",
    "class_3_kor = [76, 80, 82, 82, 92, 92, 93]\n",
    "math = [class_1_math, class_2_math, class_3_math]\n",
    "kor = [class_1_kor, class_2_kor, class_3_kor]"
   ]
  },
  {
   "cell_type": "code",
   "execution_count": 8,
   "metadata": {},
   "outputs": [],
   "source": [
    "school = dict()"
   ]
  },
  {
   "cell_type": "code",
   "execution_count": 9,
   "metadata": {},
   "outputs": [],
   "source": [
    "school[\"class1\"]=''\n",
    "school[\"class2\"]=''\n",
    "school[\"class3\"]=''"
   ]
  },
  {
   "cell_type": "code",
   "execution_count": 10,
   "metadata": {},
   "outputs": [
    {
     "name": "stdout",
     "output_type": "stream",
     "text": [
      "{'class1': '', 'class2': '', 'class3': ''}\n"
     ]
    }
   ],
   "source": [
    "print(school)"
   ]
  },
  {
   "cell_type": "code",
   "execution_count": 18,
   "metadata": {},
   "outputs": [],
   "source": [
    "grade = dict()\n",
    "grade[\"math\"] = math[0]\n",
    "grade[\"kor\"] = kor[0]\n",
    "school[\"class1\"] = grade"
   ]
  },
  {
   "cell_type": "code",
   "execution_count": 19,
   "metadata": {},
   "outputs": [
    {
     "name": "stdout",
     "output_type": "stream",
     "text": [
      "{'class1': {'math': [78, 80, 84, 80, 92, 92, 94], 'kor': [72, 83, 74, 74, 90, 90, 94]}, 'class2': {'math': [76, 80, 82, 82, 92, 92, 93], 'kor': [78, 80, 84, 80, 92, 92, 94]}, 'class3': {'math': [72, 83, 74, 74, 90, 90, 94], 'kor': [76, 80, 82, 82, 92, 92, 93]}}\n"
     ]
    }
   ],
   "source": [
    "print(school)"
   ]
  },
  {
   "cell_type": "code",
   "execution_count": 20,
   "metadata": {},
   "outputs": [
    {
     "name": "stdout",
     "output_type": "stream",
     "text": [
      "[78, 80, 84, 80, 92, 92, 94]\n"
     ]
    }
   ],
   "source": [
    "print(school[\"class1\"][\"math\"])"
   ]
  },
  {
   "cell_type": "code",
   "execution_count": 21,
   "metadata": {},
   "outputs": [],
   "source": [
    "grade = dict()\n",
    "grade[\"math\"] = math[1]\n",
    "grade[\"kor\"] = kor[1]\n",
    "school[\"class2\"] = grade"
   ]
  },
  {
   "cell_type": "code",
   "execution_count": 22,
   "metadata": {},
   "outputs": [],
   "source": [
    "grade = dict()\n",
    "grade[\"math\"] = math[2]\n",
    "grade[\"kor\"] = kor[2]\n",
    "school[\"class3\"] = grade"
   ]
  },
  {
   "cell_type": "code",
   "execution_count": 24,
   "metadata": {},
   "outputs": [
    {
     "name": "stdout",
     "output_type": "stream",
     "text": [
      "{'class1': {'math': [78, 80, 84, 80, 92, 92, 94], 'kor': [72, 83, 74, 74, 90, 90, 94]}, 'class2': {'math': [76, 80, 82, 82, 92, 92, 93], 'kor': [78, 80, 84, 80, 92, 92, 94]}, 'class3': {'math': [72, 83, 74, 74, 90, 90, 94], 'kor': [76, 80, 82, 82, 92, 92, 93]}}\n"
     ]
    }
   ],
   "source": [
    "print(school)"
   ]
  },
  {
   "cell_type": "code",
   "execution_count": 26,
   "metadata": {},
   "outputs": [
    {
     "name": "stdout",
     "output_type": "stream",
     "text": [
      "[78, 80, 84, 80, 92, 92, 94]\n"
     ]
    }
   ],
   "source": [
    "class_1_math_grade = school[\"class1\"][\"math\"]\n",
    "print(class_1_math_grade)"
   ]
  },
  {
   "cell_type": "code",
   "execution_count": 29,
   "metadata": {},
   "outputs": [],
   "source": [
    "avg = sum(class_1_math_grade)/len(class_1_math_grade)"
   ]
  },
  {
   "cell_type": "code",
   "execution_count": 32,
   "metadata": {},
   "outputs": [
    {
     "name": "stdout",
     "output_type": "stream",
     "text": [
      "85.71\n"
     ]
    }
   ],
   "source": [
    "print(\"{0:0.2f}\".format(avg))"
   ]
  },
  {
   "cell_type": "code",
   "execution_count": 34,
   "metadata": {},
   "outputs": [
    {
     "name": "stdout",
     "output_type": "stream",
     "text": [
      "[78, 80, 84, 92, 94]\n"
     ]
    }
   ],
   "source": [
    "kind_of = list(set(class_1_math_grade))\n",
    "print(kind_of)"
   ]
  },
  {
   "cell_type": "code",
   "execution_count": 36,
   "metadata": {},
   "outputs": [
    {
     "name": "stdout",
     "output_type": "stream",
     "text": [
      "[1, 2, 1, 2, 1]\n"
     ]
    }
   ],
   "source": [
    "num_of = []\n",
    "num_of.append(class_1_math_grade.count(kind_of[0]))\n",
    "num_of.append(class_1_math_grade.count(kind_of[1]))\n",
    "num_of.append(class_1_math_grade.count(kind_of[2]))\n",
    "num_of.append(class_1_math_grade.count(kind_of[3]))\n",
    "num_of.append(class_1_math_grade.count(kind_of[4]))\n",
    "print(num_of)"
   ]
  },
  {
   "cell_type": "code",
   "execution_count": 38,
   "metadata": {},
   "outputs": [
    {
     "data": {
      "image/png": "[encoded data removed]",
      "text/plain": [
       "<Figure size 432x288 with 1 Axes>"
      ]
     },
     "metadata": {
      "needs_background": "light"
     },
     "output_type": "display_data"
    }
   ],
   "source": [
    "import matplotlib.pyplot as plt\n",
    "%matplotlib inline\n",
    "plt.bar(kind_of, num_of)\n",
    "plt.show()"
   ]
  },
  {
   "cell_type": "code",
   "execution_count": 42,
   "metadata": {},
   "outputs": [
    {
     "name": "stdout",
     "output_type": "stream",
     "text": [
      "야호\n"
     ]
    }
   ],
   "source": [
    "lucky_list = [1, 9, 23, 46]\n",
    "hong = 23\n",
    "\n",
    "if hong in lucky_list:\n",
    "    print(\"야호\")"
   ]
  },
  {
   "cell_type": "code",
   "execution_count": 44,
   "metadata": {},
   "outputs": [
    {
     "name": "stdout",
     "output_type": "stream",
     "text": [
      "홀수\n"
     ]
    }
   ],
   "source": [
    "num = 1\n",
    "\n",
    "if num % 2 == 1:\n",
    "    print(\"홀수\")\n",
    "else:\n",
    "    print(\"짝수\")"
   ]
  },
  {
   "cell_type": "code",
   "execution_count": 54,
   "metadata": {},
   "outputs": [
    {
     "name": "stdout",
     "output_type": "stream",
     "text": [
      "NO\n"
     ]
    }
   ],
   "source": [
    "A = \"나이:30,키:180\"\n",
    "temp = A.split(\",\")\n",
    "age_temp = temp[0].split(\":\")\n",
    "height_temp = temp[1].split(\":\")\n",
    "\n",
    "age = int(age_temp[1])\n",
    "height = int(height_temp[1])\n",
    "\n",
    "if age < 30 and height >= 175:\n",
    "    print(\"YES\")\n",
    "else:\n",
    "    print(\"NO\")"
   ]
  },
  {
   "cell_type": "code",
   "execution_count": null,
   "metadata": {},
   "outputs": [],
   "source": []
  }
 ],
 "metadata": {
  "kernelspec": {
   "display_name": "Python 3",
   "language": "python",
   "name": "python3"
  },
  "language_info": {
   "codemirror_mode": {
    "name": "ipython",
    "version": 3
   },
   "file_extension": ".py",
   "mimetype": "text/x-python",
   "name": "python",
   "nbconvert_exporter": "python",
   "pygments_lexer": "ipython3",
   "version": "3.7.1"
  }
 },
 "nbformat": 4,
 "nbformat_minor": 2
}
