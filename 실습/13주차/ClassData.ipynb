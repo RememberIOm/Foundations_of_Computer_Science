{
 "cells": [
  {
   "cell_type": "code",
   "execution_count": 2,
   "metadata": {},
   "outputs": [],
   "source": [
    "import os"
   ]
  },
  {
   "cell_type": "code",
   "execution_count": 3,
   "metadata": {},
   "outputs": [],
   "source": [
    "data_path = os.getcwd() + '\\\\data\\\\'"
   ]
  },
  {
   "cell_type": "code",
   "execution_count": 4,
   "metadata": {},
   "outputs": [],
   "source": [
    "class Data:\n",
    "    def __init__(self, file):\n",
    "        self.file = file.readlines()\n",
    "        \n",
    "        self.kor = self.file[0].split(',')[:-1]\n",
    "        self.kor = [int(i) for i in self.kor]\n",
    "        \n",
    "        self.eng = self.file[1].split(',')[:-1]\n",
    "        self.eng = [int(i) for i in self.eng]\n",
    "        \n",
    "        self.math = self.file[2].split(',')[:-1]\n",
    "        self.math = [int(i) for i in self.math]"
   ]
  },
  {
   "cell_type": "code",
   "execution_count": 5,
   "metadata": {},
   "outputs": [],
   "source": [
    "class InputError(Exception):\n",
    "    pass"
   ]
  },
  {
   "cell_type": "code",
   "execution_count": 6,
   "metadata": {},
   "outputs": [],
   "source": [
    "class Grade(Data):\n",
    "    def avg(self, subject):\n",
    "        if subject == 'kor':\n",
    "            return sum(self.kor) / len(self.kor)\n",
    "        elif subject == 'eng':\n",
    "            return sum(self.eng) / len(self.eng)\n",
    "        elif subject == 'math':\n",
    "            return sum(self.math) / len(self.math)\n",
    "        else:\n",
    "            raise InputError()\n",
    "    \n",
    "    def std(self, subject):\n",
    "        if subject == 'kor':\n",
    "            return (sum([i ** 2 for i in self.kor]) / len(self.kor) - self.avg('kor') ** 2) ** 0.5\n",
    "        elif subject == 'eng':\n",
    "            return (sum([i ** 2 for i in self.eng]) / len(self.eng) - self.avg('eng') ** 2) ** 0.5\n",
    "        elif subject == 'math':\n",
    "            return (sum([i ** 2 for i in self.math]) / len(self.math) - self.avg('math') ** 2) ** 0.5\n",
    "        else:\n",
    "            raise InputError()\n",
    "            \n",
    "    def maximum(self, subject):\n",
    "        if subject == 'kor':\n",
    "            return max(self.kor)\n",
    "        elif subject == 'eng':\n",
    "            return max(self.eng)\n",
    "        elif subject == 'math':\n",
    "            return max(self.math)\n",
    "        else:\n",
    "            raise InputError()\n",
    "            \n",
    "    def minimum(self, subject):\n",
    "        if subject == 'kor':\n",
    "            return min(self.kor)\n",
    "        elif subject == 'eng':\n",
    "            return min(self.eng)\n",
    "        elif subject == 'math':\n",
    "            return min(self.math)\n",
    "        else:\n",
    "            raise InputError()"
   ]
  },
  {
   "cell_type": "code",
   "execution_count": 7,
   "metadata": {},
   "outputs": [],
   "source": [
    "school = dict()"
   ]
  },
  {
   "cell_type": "code",
   "execution_count": 8,
   "metadata": {},
   "outputs": [],
   "source": [
    "for i in range(1, 4):\n",
    "    for j in range(1, 6):\n",
    "        name = str(i) + '_' + str(j)\n",
    "        school[name] = Grade(open(data_path + name + '.csv'))"
   ]
  },
  {
   "cell_type": "code",
   "execution_count": 9,
   "metadata": {},
   "outputs": [
    {
     "name": "stdout",
     "output_type": "stream",
     "text": [
      "1학년 1반의 국어 평균: 46.25, 표준편차: 25.66101128170907, 최고점: 93, 최저점: 3\n",
      "\n",
      "1학년 1반의 영어 평균: 52.7, 표준편차: 20.623045361924593, 최고점: 89, 최저점: 5\n",
      "\n",
      "1학년 1반의 수학 평균: 50.4, 표준편차: 32.45982131805411, 최고점: 97, 최저점: 3\n",
      "\n",
      "1학년 2반의 국어 평균: 44.25, 표준편차: 22.196565049574676, 최고점: 84, 최저점: 1\n",
      "\n",
      "1학년 2반의 영어 평균: 46.85, 표준편차: 28.485566520608288, 최고점: 96, 최저점: 2\n",
      "\n",
      "1학년 2반의 수학 평균: 51.2, 표준편차: 28.16842203603176, 최고점: 99, 최저점: 9\n",
      "\n",
      "1학년 3반의 국어 평균: 60.65, 표준편차: 30.442199329220614, 최고점: 100, 최저점: 4\n",
      "\n",
      "1학년 3반의 영어 평균: 46.6, 표준편차: 33.1984939417438, 최고점: 94, 최저점: 1\n",
      "\n",
      "1학년 3반의 수학 평균: 50.35, 표준편차: 30.825760331255417, 최고점: 100, 최저점: 2\n",
      "\n",
      "1학년 4반의 국어 평균: 52.75, 표준편차: 31.424313834990894, 최고점: 96, 최저점: 1\n",
      "\n",
      "1학년 4반의 영어 평균: 53.95, 표준편차: 27.66852905378238, 최고점: 97, 최저점: 3\n",
      "\n",
      "1학년 4반의 수학 평균: 56.1, 표준편차: 27.956931162057113, 최고점: 98, 최저점: 11\n",
      "\n",
      "1학년 5반의 국어 평균: 43.1, 표준편차: 29.593749340021112, 최고점: 97, 최저점: 3\n",
      "\n",
      "1학년 5반의 영어 평균: 41.15, 표준편차: 31.43290473373404, 최고점: 97, 최저점: 1\n",
      "\n",
      "1학년 5반의 수학 평균: 44.55, 표준편차: 25.966276205879044, 최고점: 95, 최저점: 1\n",
      "\n",
      "\n",
      "\n",
      "2학년 1반의 국어 평균: 52.9, 표준편차: 29.683160209115204, 최고점: 91, 최저점: 5\n",
      "\n",
      "2학년 1반의 영어 평균: 44.65, 표준편차: 27.408529694239345, 최고점: 94, 최저점: 1\n",
      "\n",
      "2학년 1반의 수학 평균: 42.65, 표준편차: 20.909985652792788, 최고점: 88, 최저점: 7\n",
      "\n",
      "2학년 2반의 국어 평균: 57.75, 표준편차: 25.369026390462842, 최고점: 100, 최저점: 1\n",
      "\n",
      "2학년 2반의 영어 평균: 49.1, 표준편차: 28.001607096736432, 최고점: 94, 최저점: 3\n",
      "\n",
      "2학년 2반의 수학 평균: 42.75, 표준편차: 30.290056124081385, 최고점: 89, 최저점: 4\n",
      "\n",
      "2학년 3반의 국어 평균: 48.3, 표준편차: 25.40295258429618, 최고점: 97, 최저점: 4\n",
      "\n",
      "2학년 3반의 영어 평균: 56.75, 표준편차: 30.706473258907476, 최고점: 100, 최저점: 9\n",
      "\n",
      "2학년 3반의 수학 평균: 45.95, 표준편차: 23.56581210143202, 최고점: 88, 최저점: 2\n",
      "\n",
      "2학년 4반의 국어 평균: 50.6, 표준편차: 29.20684851195007, 최고점: 99, 최저점: 2\n",
      "\n",
      "2학년 4반의 영어 평균: 44.85, 표준편차: 24.230713980400992, 최고점: 92, 최저점: 1\n",
      "\n",
      "2학년 4반의 수학 평균: 53.75, 표준편차: 25.764073823834615, 최고점: 99, 최저점: 12\n",
      "\n",
      "2학년 5반의 국어 평균: 59.55, 표준편차: 24.546842974199354, 최고점: 93, 최저점: 2\n",
      "\n",
      "2학년 5반의 영어 평균: 51.55, 표준편차: 28.079307327638983, 최고점: 97, 최저점: 6\n",
      "\n",
      "2학년 5반의 수학 평균: 53.15, 표준편차: 28.515390581228246, 최고점: 92, 최저점: 8\n",
      "\n",
      "\n",
      "\n",
      "3학년 1반의 국어 평균: 56.55, 표준편차: 27.5943381873891, 최고점: 98, 최저점: 16\n",
      "\n",
      "3학년 1반의 영어 평균: 40.1, 표준편차: 31.777193079313975, 최고점: 92, 최저점: 1\n",
      "\n",
      "3학년 1반의 수학 평균: 47.9, 표준편차: 27.215620514697072, 최고점: 99, 최저점: 1\n",
      "\n",
      "3학년 2반의 국어 평균: 57.3, 표준편차: 25.458004635084826, 최고점: 100, 최저점: 16\n",
      "\n",
      "3학년 2반의 영어 평균: 44.9, 표준편차: 25.32567866810286, 최고점: 91, 최저점: 4\n",
      "\n",
      "3학년 2반의 수학 평균: 52.0, 표준편차: 26.176325181354233, 최고점: 87, 최저점: 1\n",
      "\n",
      "3학년 3반의 국어 평균: 54.1, 표준편차: 28.922136850516427, 최고점: 100, 최저점: 6\n",
      "\n",
      "3학년 3반의 영어 평균: 53.15, 표준편차: 27.267700673140745, 최고점: 100, 최저점: 4\n",
      "\n",
      "3학년 3반의 수학 평균: 51.1, 표준편차: 29.926409741230238, 최고점: 97, 최저점: 5\n",
      "\n",
      "3학년 4반의 국어 평균: 56.35, 표준편차: 29.479272379080182, 최고점: 100, 최저점: 14\n",
      "\n",
      "3학년 4반의 영어 평균: 46.05, 표준편차: 30.71233465563958, 최고점: 99, 최저점: 5\n",
      "\n",
      "3학년 4반의 수학 평균: 54.75, 표준편차: 26.93858756505248, 최고점: 100, 최저점: 8\n",
      "\n",
      "3학년 5반의 국어 평균: 46.9, 표준편차: 28.816488335673387, 최고점: 96, 최저점: 1\n",
      "\n",
      "3학년 5반의 영어 평균: 54.7, 표준편차: 25.803294363317253, 최고점: 96, 최저점: 15\n",
      "\n",
      "3학년 5반의 수학 평균: 40.75, 표준편차: 30.655953744745897, 최고점: 98, 최저점: 3\n",
      "\n",
      "\n",
      "\n"
     ]
    }
   ],
   "source": [
    "for i in range(1, 4):\n",
    "    for j in range(1, 6):\n",
    "        name = str(i) + '_' + str(j)\n",
    "        print('{0}학년 {1}반의 국어 평균: {2}, 표준편차: {3}, 최고점: {4}, 최저점: {5}\\n'.format(i, j, school[name].avg('kor'), school[name].std('kor'), school[name].maximum('kor'), school[name].minimum('kor')))\n",
    "        print('{0}학년 {1}반의 영어 평균: {2}, 표준편차: {3}, 최고점: {4}, 최저점: {5}\\n'.format(i, j, school[name].avg('eng'), school[name].std('eng'), school[name].maximum('eng'), school[name].minimum('eng')))\n",
    "        print('{0}학년 {1}반의 수학 평균: {2}, 표준편차: {3}, 최고점: {4}, 최저점: {5}\\n'.format(i, j, school[name].avg('math'), school[name].std('math'), school[name].maximum('math'), school[name].minimum('math')))\n",
    "    print('\\n')"
   ]
  },
  {
   "cell_type": "code",
   "execution_count": null,
   "metadata": {},
   "outputs": [],
   "source": []
  }
 ],
 "metadata": {
  "kernelspec": {
   "display_name": "Python 3",
   "language": "python",
   "name": "python3"
  },
  "language_info": {
   "codemirror_mode": {
    "name": "ipython",
    "version": 3
   },
   "file_extension": ".py",
   "mimetype": "text/x-python",
   "name": "python",
   "nbconvert_exporter": "python",
   "pygments_lexer": "ipython3",
   "version": "3.7.1"
  }
 },
 "nbformat": 4,
 "nbformat_minor": 2
}
