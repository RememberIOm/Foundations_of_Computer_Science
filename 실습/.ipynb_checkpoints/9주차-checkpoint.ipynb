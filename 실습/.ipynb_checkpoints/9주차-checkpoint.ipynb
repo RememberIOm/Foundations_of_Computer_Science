{
 "cells": [
  {
   "cell_type": "code",
   "execution_count": 1,
   "metadata": {},
   "outputs": [
    {
     "name": "stdout",
     "output_type": "stream",
     "text": [
      "INPUT: 123\n"
     ]
    }
   ],
   "source": [
    "a = input(\"INPUT: \")"
   ]
  },
  {
   "cell_type": "code",
   "execution_count": 2,
   "metadata": {},
   "outputs": [
    {
     "name": "stdout",
     "output_type": "stream",
     "text": [
      "123\n"
     ]
    }
   ],
   "source": [
    "print(a)"
   ]
  },
  {
   "cell_type": "code",
   "execution_count": 3,
   "metadata": {},
   "outputs": [
    {
     "name": "stdout",
     "output_type": "stream",
     "text": [
      "첫번째 숫자: 1\n",
      "두번째 숫자: 2\n",
      "합: 3\n"
     ]
    }
   ],
   "source": [
    "input1 = int(input(\"첫번째 숫자: \"))\n",
    "input2 = int(input(\"두번째 숫자: \"))\n",
    "\n",
    "total = input1 + input2\n",
    "\n",
    "print(\"합: %s\" % total)"
   ]
  },
  {
   "cell_type": "code",
   "execution_count": 10,
   "metadata": {},
   "outputs": [
    {
     "name": "stdout",
     "output_type": "stream",
     "text": [
      "정수 입력: 1,2,3,4,5,6,7,8,9\n",
      "45\n"
     ]
    }
   ],
   "source": [
    "set_num = input(\"정수 입력: \")\n",
    "numbers = set_num.split(',')\n",
    "\n",
    "total = 0\n",
    "\n",
    "for num in numbers:\n",
    "    total = total + int(num)\n",
    "\n",
    "print(total)"
   ]
  },
  {
   "cell_type": "code",
   "execution_count": 13,
   "metadata": {},
   "outputs": [],
   "source": [
    "f = open(\"test.txt\", 'w')\n",
    "\n",
    "for i in range(1, 11):\n",
    "    f.write(str(i) + '\\n')\n",
    "    \n",
    "f.close()"
   ]
  },
  {
   "cell_type": "code",
   "execution_count": 15,
   "metadata": {},
   "outputs": [
    {
     "name": "stdout",
     "output_type": "stream",
     "text": [
      "3890b615,19,91,96\n",
      "\n"
     ]
    }
   ],
   "source": [
    "f = open(\"grade.txt\")\n",
    "text = f.readline()\n",
    "print(text)"
   ]
  },
  {
   "cell_type": "code",
   "execution_count": 25,
   "metadata": {},
   "outputs": [
    {
     "name": "stdout",
     "output_type": "stream",
     "text": [
      "49.71\n",
      "50.82\n",
      "48.94\n"
     ]
    }
   ],
   "source": [
    "f = open(\"grade.txt\", 'r')\n",
    "\n",
    "def set_info(text):\n",
    "    grades = []\n",
    "    for t in text:\n",
    "        student = dict()\n",
    "        t = t.split(',')\n",
    "        student['id'] = t[0]\n",
    "        student['kor'] = int(t[1])\n",
    "        student['math'] = int(t[2])\n",
    "        student['eng'] = int(t[3].split('\\n')[0])\n",
    "        grades.append(student)\n",
    "    return grades\n",
    "\n",
    "grades = set_info(f.readlines())\n",
    "\n",
    "def get_avg(grades, name):\n",
    "    temp_list = []\n",
    "    for g in grades:\n",
    "        temp_list.append(g[name])\n",
    "    return sum(temp_list) / len(temp_list)\n",
    "\n",
    "print(get_avg(grades, 'kor'))\n",
    "print(get_avg(grades, 'math'))\n",
    "print(get_avg(grades, 'eng'))"
   ]
  },
  {
   "cell_type": "code",
   "execution_count": null,
   "metadata": {},
   "outputs": [],
   "source": []
  }
 ],
 "metadata": {
  "kernelspec": {
   "display_name": "Python 3",
   "language": "python",
   "name": "python3"
  },
  "language_info": {
   "codemirror_mode": {
    "name": "ipython",
    "version": 3
   },
   "file_extension": ".py",
   "mimetype": "text/x-python",
   "name": "python",
   "nbconvert_exporter": "python",
   "pygments_lexer": "ipython3",
   "version": "3.7.1"
  }
 },
 "nbformat": 4,
 "nbformat_minor": 2
}
