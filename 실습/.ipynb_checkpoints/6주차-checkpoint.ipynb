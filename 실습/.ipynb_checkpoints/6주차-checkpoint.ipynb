{
 "cells": [
  {
   "cell_type": "code",
   "execution_count": 3,
   "metadata": {},
   "outputs": [
    {
     "name": "stdout",
     "output_type": "stream",
     "text": [
      "\n",
      "1. add\n",
      "2. del\n",
      "3. list\n",
      "4. quit\n",
      "\n",
      "enter number: \n",
      "4\n"
     ]
    }
   ],
   "source": [
    "prompt = \"\"\"\n",
    "1. add\n",
    "2. del\n",
    "3. list\n",
    "4. quit\n",
    "\n",
    "enter number: \"\"\"\n",
    "\n",
    "number = 0\n",
    "while number != 4:\n",
    "    print(prompt)\n",
    "    number = int(input())"
   ]
  },
  {
   "cell_type": "code",
   "execution_count": 4,
   "metadata": {},
   "outputs": [
    {
     "name": "stdout",
     "output_type": "stream",
     "text": [
      "커피 구입\n",
      "남은 커피 9잔\n",
      "커피 구입\n",
      "남은 커피 8잔\n",
      "커피 구입\n",
      "남은 커피 7잔\n",
      "커피 구입\n",
      "남은 커피 6잔\n",
      "커피 구입\n",
      "남은 커피 5잔\n",
      "커피 구입\n",
      "남은 커피 4잔\n",
      "커피 구입\n",
      "남은 커피 3잔\n",
      "커피 구입\n",
      "남은 커피 2잔\n",
      "커피 구입\n",
      "남은 커피 1잔\n",
      "커피 구입\n",
      "남은 커피 0잔\n",
      "품절\n"
     ]
    }
   ],
   "source": [
    "coffee = 10\n",
    "money = 300\n",
    "while money:\n",
    "    print(\"커피 구입\")\n",
    "    coffee = coffee - 1\n",
    "    print(\"남은 커피 %d잔\" % coffee)\n",
    "    if not coffee:\n",
    "        print(\"품절\")\n",
    "        break"
   ]
  },
  {
   "cell_type": "code",
   "execution_count": 8,
   "metadata": {},
   "outputs": [
    {
     "name": "stdout",
     "output_type": "stream",
     "text": [
      "돈을 넣어 주세요.300\n",
      "커피를 줍니다.\n",
      "돈을 넣어 주세요.400\n",
      "거스름돈 100원을 주고 커피를 줍니다.\n",
      "돈을 넣어 주세요.100\n",
      "돈을 다시 돌려주고 커피를 주지 않습니다. 남은 커피의 양은 8개입니다.\n",
      "돈을 넣어 주세요.100\n",
      "돈을 다시 돌려주고 커피를 주지 않습니다. 남은 커피의 양은 8개입니다.\n",
      "돈을 넣어 주세요.300\n",
      "커피를 줍니다.\n",
      "돈을 넣어 주세요.300\n",
      "커피를 줍니다.\n",
      "돈을 넣어 주세요.300\n",
      "커피를 줍니다.\n",
      "돈을 넣어 주세요.300\n",
      "커피를 줍니다.\n",
      "돈을 넣어 주세요.300\n",
      "커피를 줍니다.\n",
      "돈을 넣어 주세요.300\n",
      "커피를 줍니다.\n",
      "돈을 넣어 주세요.300\n",
      "커피를 줍니다.\n",
      "돈을 넣어 주세요.300\n",
      "커피를 줍니다.\n",
      "커피가 다 떨어졌습니다.\n"
     ]
    }
   ],
   "source": [
    "coffee = 10\n",
    "money = 0\n",
    "\n",
    "while coffee:\n",
    "    money = int(input(\"돈을 넣어 주세요.\"))\n",
    "    change = money - 300\n",
    "    if money == 300:\n",
    "        print(\"커피를 줍니다.\")\n",
    "        coffee = coffee - 1\n",
    "    elif money > 300:\n",
    "        print(\"거스름돈 %d원을 주고 커피를 줍니다.\" % change)\n",
    "        coffee = coffee - 1\n",
    "    else:\n",
    "        print(\"돈을 다시 돌려주고 커피를 주지 않습니다. 남은 커피의 양은 %d개입니다.\" % coffee)\n",
    "    if coffee < 1:\n",
    "        print(\"커피가 다 떨어졌습니다.\")\n",
    "        break\n",
    "    "
   ]
  },
  {
   "cell_type": "code",
   "execution_count": 9,
   "metadata": {},
   "outputs": [
    {
     "name": "stdout",
     "output_type": "stream",
     "text": [
      "1\n",
      "3\n",
      "5\n",
      "7\n",
      "9\n"
     ]
    }
   ],
   "source": [
    "a = 0\n",
    "while a < 10:\n",
    "    a = a + 1\n",
    "    if a % 2 == 0:\n",
    "        continue\n",
    "    print(a)"
   ]
  },
  {
   "cell_type": "code",
   "execution_count": 18,
   "metadata": {},
   "outputs": [
    {
     "name": "stdout",
     "output_type": "stream",
     "text": [
      "4\n",
      "*******\n",
      " ***** \n",
      "  ***  \n",
      "   *   \n"
     ]
    }
   ],
   "source": [
    "a = int(input())\n",
    "const_number = a * 2 - 1\n",
    "while a:\n",
    "    number_star = a * 2 - 1\n",
    "    star = \"*\" * number_star\n",
    "    print(star.center(const_number,' '))\n",
    "    a = a - 1"
   ]
  },
  {
   "cell_type": "code",
   "execution_count": 20,
   "metadata": {},
   "outputs": [
    {
     "name": "stdout",
     "output_type": "stream",
     "text": [
      "4\n",
      " *******\n",
      "  *****\n",
      "   ***\n",
      "    *\n"
     ]
    }
   ],
   "source": [
    "a = int(input())\n",
    "star = a * 2 - 1\n",
    "space = 0\n",
    "while star > 0:\n",
    "    print(' ' * space, '*' * star)\n",
    "    if space < a:\n",
    "        space = space + 1\n",
    "    if star > 0:\n",
    "        star = star - 2"
   ]
  },
  {
   "cell_type": "code",
   "execution_count": 24,
   "metadata": {},
   "outputs": [
    {
     "name": "stdout",
     "output_type": "stream",
     "text": [
      "[1, 2, 3]\n"
     ]
    }
   ],
   "source": [
    "example = [1,2,3]\n",
    "for ex in example:\n",
    "    ex = 5\n",
    "print(example)"
   ]
  },
  {
   "cell_type": "code",
   "execution_count": 22,
   "metadata": {},
   "outputs": [
    {
     "name": "stdout",
     "output_type": "stream",
     "text": [
      "[5, 5, 5]\n"
     ]
    }
   ],
   "source": [
    "example = [1,2,3]\n",
    "for i in range(0,len(example)):\n",
    "    example[i] = 5\n",
    "print(example)"
   ]
  },
  {
   "cell_type": "code",
   "execution_count": 29,
   "metadata": {},
   "outputs": [
    {
     "name": "stdout",
     "output_type": "stream",
     "text": [
      "1번 학생은 합격입니다.\n",
      "2번 학생은 불합격입니다.\n",
      "3번 학생은 합격입니다.\n",
      "4번 학생은 불합격입니다.\n",
      "5번 학생은 합격입니다.\n"
     ]
    }
   ],
   "source": [
    "marks = [90,25,67,45,80]\n",
    "for i in range(0, len(marks)):\n",
    "    if marks[i] > 60:\n",
    "        print('%d번 학생은 합격입니다.' % (i + 1))\n",
    "    else:\n",
    "        print('%d번 학생은 불합격입니다.' % (i + 1))"
   ]
  },
  {
   "cell_type": "code",
   "execution_count": null,
   "metadata": {},
   "outputs": [],
   "source": []
  }
 ],
 "metadata": {
  "kernelspec": {
   "display_name": "Python 3",
   "language": "python",
   "name": "python3"
  },
  "language_info": {
   "codemirror_mode": {
    "name": "ipython",
    "version": 3
   },
   "file_extension": ".py",
   "mimetype": "text/x-python",
   "name": "python",
   "nbconvert_exporter": "python",
   "pygments_lexer": "ipython3",
   "version": "3.7.1"
  }
 },
 "nbformat": 4,
 "nbformat_minor": 2
}
